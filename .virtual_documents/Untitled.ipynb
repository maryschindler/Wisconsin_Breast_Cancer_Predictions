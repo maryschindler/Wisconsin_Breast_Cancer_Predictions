import pandas as pd
import numpy as np





df = pd.read_csv('./Data/data.csv')
df.head()


df.info()


df.drop(columns = ['Unnamed: 32'], inplace = True)


df.columns

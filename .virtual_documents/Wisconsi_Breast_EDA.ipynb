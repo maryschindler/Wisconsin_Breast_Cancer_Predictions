import pandas as pd
import numpy as np

import matplotlib.pyplot as plt
import seaborn as sns

import warnings
warnings.filterwarnings('ignore')





df = pd.read_csv('./Data/data.csv')
df.head()


df.info()


df.drop(columns = ['Unnamed: 32'], inplace = True)


mean_columns = ['radius_mean', 'texture_mean', 'perimeter_mean'
                , 'area_mean', 'smoothness_mean', 'compactness_mean', 'concavity_mean'
                , 'concave points_mean', 'symmetry_mean', 'fractal_dimension_mean']

se_columns = ['radius_se', 'texture_se', 'perimeter_se', 'area_se'
              , 'smoothness_se', 'compactness_se', 'concavity_se'
              , 'concave points_se', 'symmetry_se', 'fractal_dimension_se']

worst_columns = ['radius_worst', 'texture_worst', 'perimeter_worst'
                 , 'area_worst', 'smoothness_worst', 'compactness_worst'
                 , 'concavity_worst', 'concave points_worst', 'symmetry_worst'
                 , 'fractal_dimension_worst']


df.columns





def create_overlay_plot(df, column):
    """
    Creates a single plot with a histogram and a faint boxplot overlay for a specified column in a DataFrame.
    
    Parameters:
    df (pd.DataFrame): The input DataFrame.
    column (str): The column name for which to create the visualizations.
    """
    # Extract the data for the specified column
    data = df[column]

    # Set up the matplotlib figure
    plt.figure(figsize=(8, 6))

    # Create the histogram
    sns.histplot(data, kde=True, alpha=0.7)

    # Calculate median and quartiles for the boxplot overlay
    median = data.median()
    q1, q3 = data.quantile(0.25), data.quantile(0.75)

    # Add vertical lines for quartiles
    plt.axvline(q1, color='orange', linestyle='-.', label=f'Q1 ({q1:.2f})', alpha=0.7)
    plt.axvline(q3, color='orange', linestyle='-.', label=f'Q3 ({q3:.2f})', alpha=0.7)

    # Add vertical lines for mean and median
    plt.axvline(data.mean(), color='orange', linestyle='--', label=f'Mean ({data.mean():.2f})', alpha=0.7)
    plt.axvline(median, color='orange', linestyle='-', label=f'Median ({median:.2f})', alpha=0.7)

    # Add legend and title
    plt.legend()
    plt.title(f"Histogram for: {column.replace('_', ' ').title()}")

    # Display the plot
    plt.show()

# Example usage:
create_overlay_plot(df, 'radius_mean')


def create_overlay_plot(df, column, ax, title = True):
    """
    Creates a single plot with a histogram and a faint boxplot overlay for a specified column in a DataFrame.
    
    Parameters:
    df (pd.DataFrame): The input DataFrame.
    column (str): The column name for which to create the visualizations.
    ax (matplotlib.axes.Axes): The Axes object to draw the plot onto.
    """
    # Extract the data for the specified column
    data = df[column]

    # Create the histogram
    sns.histplot(data, kde=True, alpha=0.7, ax=ax)

    # Calculate median and quartiles for the boxplot overlay
    median = data.median()
    q1, q3 = data.quantile(0.25), data.quantile(0.75)

    # Add vertical lines for quartiles
    ax.axvline(q1, color='orange', linestyle='-.', alpha=0.7)
    ax.axvline(q3, color='orange', linestyle='-.', alpha=0.7)

    # Add vertical lines for mean and median
    ax.axvline(data.mean(), color='orange', linestyle='--', label=f'Mean ({data.mean():.2f})', alpha=0.7)
    ax.axvline(median, color='orange', linestyle='-', label=f'Median ({median:.2f})', alpha=0.7)

    # Set title and labels
    if title == True:
        ax.set_title(f"{column.replace('_', ' ').title()}", fontsize=8)

    else: 
        ax.set_title(column, fontsize=8)
        
    ax.set_xlabel(xlabel=column, fontsize=8)
    ax.set_ylabel(ylabel='Count', fontsize=8)

    # Set tick label sizes
    ax.tick_params(axis='x', labelsize=8)
    ax.tick_params(axis='y', labelsize=8)

    # Add legend
    ax.legend(fontsize=8)


def create_subplot_grid(df, columns, plot_function, title = True):
    """
    Creates a grid of plots for specified columns in a DataFrame using the given plotting function.
    
    Parameters:
    df (pd.DataFrame): The input DataFrame.
    columns (list): List of column names for which to create the visualizations.
    plot_function (callable): A function that takes a DataFrame, a column name, and an Axes object, and creates a plot.
    """
    sns.set_style("darkgrid")
    
    num_cols = 3  # Number of columns in the grid
    num_rows = -(-len(columns) // num_cols)  # Number of rows needed to accommodate all columns
    
    # Set the fixed height and width for each subplot
    subplot_height = 3
    subplot_width = 4
    
    # Calculate the figure height and width based on the number of rows and columns and fixed subplot height and width
    fig_height = subplot_height * num_rows
    fig_width = subplot_width * num_cols
    
    # Create a figure with appropriate size and aspect ratio
    fig, axes = plt.subplots(num_rows, num_cols, figsize=(fig_width, fig_height))
    
    # Flatten the axes array to simplify indexing
    axes = axes.flatten()
    
    # Loop through each column and create plots using the specified plotting function
    for i, (ax, column) in enumerate(zip(axes, columns)):
        if i < len(columns):  # Only create plots for the required number of columns
            # Create plot for the current column using the specified plotting function
            plot_function(df, column, ax, title)
        else:
            # Hide empty subplots
            ax.axis('off')

    # Remove excess subplots
    for ax in axes[len(columns):]:
        ax.remove()

    # suptitle
    plt.suptitle('Histograms:', y = 1.01)

    # Adjust layout
    plt.tight_layout()

    return


create_subplot_grid(df, se_columns, create_overlay_plot, title = False)



